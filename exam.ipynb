{
 "cells": [
  {
   "cell_type": "markdown",
   "metadata": {},
   "source": [
    "Мультитредінговий конвертер валют\n",
    "Розробіть програму, яка використовує мультитредінг для одночасного\n",
    "конвертування валют з одного формату в інший. Програма має зчитувати\n",
    "валютні курси з файлу (наприклад, CSV) та конвертувати суми у різних потоках.\n",
    "Реалізуйте синхронізацію між потоками для уникнення конфліктів при доступі до спільних даних."
   ]
  },
  {
   "cell_type": "code",
   "execution_count": 2,
   "metadata": {},
   "outputs": [
    {
     "name": "stdout",
     "output_type": "stream",
     "text": [
      "Доступні коди валют: ['USD', 'EUR', 'PLN', 'UAH', 'GBP']\n",
      "Початок конвертації USD в EUR\n",
      "Початок конвертації EUR в PLN\n",
      "Початок конвертації PLN в UAH\n",
      "Початок конвертації UAH в GBP\n",
      "Початок конвертації GBP в USD\n",
      "Завершення конвертації PLN в UAH\n",
      "Конвертація з PLN в UAH: 3.2\n",
      "Завершення конвертації GBP в USD\n",
      "Конвертація з GBP в USD: 91.5\n",
      "Завершення конвертації USD в EUR\n",
      "Конвертація з USD в EUR: 88.0\n",
      "Завершення конвертації EUR в PLN\n",
      "Конвертація з EUR в PLN: 12.0\n",
      "Завершення конвертації UAH в GBP\n",
      "Конвертація з UAH в GBP: 2178.0\n"
     ]
    }
   ],
   "source": [
    "import csv\n",
    "import threading\n",
    "import time\n",
    "\n",
    "\n",
    "class CurrencyConverter:\n",
    "    def __init__(self, source_currency, exchange_rates):\n",
    "        self.source_currency = source_currency\n",
    "        self.exchange_rates = exchange_rates\n",
    "        self.lock = threading.Lock()\n",
    "\n",
    "    def convert(self, target_currency, amount):\n",
    "        if target_currency == self.source_currency:\n",
    "            return amount\n",
    "        with self.lock:\n",
    "            return amount * self.exchange_rates[target_currency]\n",
    "\n",
    "\n",
    "def read_exchange_rates(filename):\n",
    "    with open(filename, \"r\") as f:\n",
    "        reader = csv.DictReader(f)\n",
    "        exchange_rates = {}\n",
    "        for row in reader:\n",
    "            currency = row.pop(\"Currency\")\n",
    "            exchange_rates[currency] = {k: float(v) for k, v in row.items()}\n",
    "    return exchange_rates\n",
    "\n",
    "\n",
    "def main():\n",
    "    filename = \"exchange_rates.csv\"\n",
    "    exchange_rates = read_exchange_rates(filename)\n",
    "    currency_converters = {}\n",
    "    for source_currency, currency_data in exchange_rates.items():\n",
    "        currency_converters[source_currency] = CurrencyConverter(source_currency, currency_data)\n",
    "\n",
    "    print(\"Доступні коди валют:\", list(currency_converters.keys()))\n",
    "\n",
    "    conversion_threads = []\n",
    "    for source_currency, target_currency, amount in [\n",
    "        (\"USD\", \"EUR\", 100),\n",
    "        (\"EUR\", \"PLN\", 50),\n",
    "        (\"PLN\", \"UAH\", 20),\n",
    "        (\"UAH\", \"GBP\", 100),\n",
    "        (\"GBP\", \"USD\", 75),\n",
    "    ]:\n",
    "        currency_converter = currency_converters.get(source_currency)\n",
    "        if currency_converter is None:\n",
    "            print(f\"Конвертер валюти не знайдено для '{source_currency}'\")\n",
    "        else:\n",
    "            thread = threading.Thread(target=convert_in_thread,\n",
    "                                      args=(currency_converter, source_currency, target_currency, amount))\n",
    "            conversion_threads.append(thread)\n",
    "            thread.start()\n",
    "\n",
    "    for thread in conversion_threads:\n",
    "        thread.join()\n",
    "\n",
    "\n",
    "def convert_in_thread(currency_converter, source_currency, target_currency, amount):\n",
    "    print(f\"Початок конвертації {source_currency} в {target_currency}\")\n",
    "    time.sleep(1)  # Затримка в одну секунду для демонстрації паралельності\n",
    "    result = currency_converter.convert(target_currency, amount)\n",
    "    print(f\"Завершення конвертації {source_currency} в {target_currency}\")\n",
    "    print(f\"Конвертація з {source_currency} в {target_currency}: {result}\")\n",
    "\n",
    "\n",
    "if __name__ == \"__main__\":\n",
    "    main()\n"
   ]
  }
 ],
 "metadata": {
  "kernelspec": {
   "display_name": "Python 3",
   "language": "python",
   "name": "python3"
  },
  "language_info": {
   "codemirror_mode": {
    "name": "ipython",
    "version": 3
   },
   "file_extension": ".py",
   "mimetype": "text/x-python",
   "name": "python",
   "nbconvert_exporter": "python",
   "pygments_lexer": "ipython3",
   "version": "3.11.5"
  }
 },
 "nbformat": 4,
 "nbformat_minor": 2
}
