{
 "cells": [
  {
   "cell_type": "markdown",
   "metadata": {},
   "source": [
    "Мультитредінговий конвертер валют\n",
    "Розробіть програму, яка використовує мультитредінг для одночасного\n",
    "конвертування валют з одного формату в інший. Програма має зчитувати\n",
    "валютні курси з файлу (наприклад, CSV) та конвертувати суми у різних потоках.\n",
    "Реалізуйте синхронізацію між потоками для уникнення конфліктів при доступі до спільних даних."
   ]
  },
  {
   "cell_type": "markdown",
   "metadata": {},
   "source": [
    "CURRENCIES IN USE:\n",
    "USD\tUnited States Dollar \n",
    "EUR\tEuro \n",
    "GBP\tPound Sterling\t\n",
    "UAN\tUkrainian Hryvnia\t\n",
    "CAD\tCanadian Dollar\t\n",
    "CHF\tSwiss Franc"
   ]
  },
  {
   "cell_type": "code",
   "execution_count": 29,
   "metadata": {},
   "outputs": [
    {
     "name": "stdout",
     "output_type": "stream",
     "text": [
      "Доступні коди валют: ['USD', 'EUR', 'PLN', 'UAH', 'GBP']\n",
      "USD to EUR: 100.00 -> 88.00\n",
      "EUR to PLN: 50.00 -> 12.00\n",
      "PLN to UAH: 20.00 -> 3.20\n",
      "UAH to GBP: 100.00 -> 2178.00\n",
      "GBP to USD: 75.00 -> 91.50\n"
     ]
    }
   ],
   "source": [
    "import csv\n",
    "import threading\n",
    "\n",
    "\n",
    "class CurrencyConverter:\n",
    "    def __init__(self, source_currency, exchange_rates):\n",
    "        self.source_currency = source_currency\n",
    "        self.exchange_rates = exchange_rates\n",
    "        self.lock = threading.Lock()  # Додали блокування для синхронізації доступу до обмінних курсів\n",
    "\n",
    "    def convert(self, target_currency, amount):\n",
    "        if target_currency == self.source_currency:\n",
    "            return amount\n",
    "        with self.lock:  # Захоплюємо блокування перед доступом до обмінних курсів\n",
    "            return amount * self.exchange_rates[target_currency]\n",
    "\n",
    "\n",
    "def read_exchange_rates(filename):\n",
    "    with open(filename, \"r\") as f:\n",
    "        reader = csv.DictReader(f)\n",
    "        exchange_rates = {}\n",
    "        for row in reader:\n",
    "            currency = row.pop(\"Currency\")  # Отримуємо код валюти\n",
    "            exchange_rates[currency] = {k: float(v) for k, v in row.items()}\n",
    "    return exchange_rates\n",
    "\n",
    "\n",
    "def main():\n",
    "    filename = \"exchange_rates.csv\"\n",
    "    exchange_rates = read_exchange_rates(filename)\n",
    "\n",
    "    # Створюємо конвертери валют для кожної валюти.\n",
    "    currency_converters = {}\n",
    "    for source_currency, currency_data in exchange_rates.items():\n",
    "        currency_converters[source_currency] = CurrencyConverter(source_currency, currency_data)\n",
    "\n",
    "    # Друк доступних кодів валют для перевірки\n",
    "    print(\"Доступні коди валют:\", list(currency_converters.keys()))\n",
    "\n",
    "    # Створюємо список потоків для конвертації валют\n",
    "    conversion_threads = []\n",
    "\n",
    "    # Конвертуємо вказані суми між різними валютами у різних потоках\n",
    "    for source_currency, target_currency, amount in [\n",
    "        (\"USD\", \"EUR\", 100),\n",
    "        (\"EUR\", \"PLN\", 50),\n",
    "        (\"PLN\", \"UAH\", 20),\n",
    "        (\"UAH\", \"GBP\", 100),\n",
    "        (\"GBP\", \"USD\", 75),\n",
    "    ]:\n",
    "        currency_converter = currency_converters.get(source_currency)\n",
    "        if currency_converter is None:\n",
    "            print(f\"Конвертер валюти не знайдено для '{source_currency}'\")\n",
    "        else:\n",
    "            thread = threading.Thread(target=currency_converter.convert, args=(target_currency, amount))\n",
    "            conversion_threads.append(thread)\n",
    "            thread.start()\n",
    "\n",
    "    # Очікуємо завершення всіх потоків конвертації\n",
    "    for thread in conversion_threads:\n",
    "        thread.join()\n",
    "\n",
    "    # Друк результатів конвертації\n",
    "    for source_currency, target_currency, amount in [\n",
    "        (\"USD\", \"EUR\", 100),\n",
    "        (\"EUR\", \"PLN\", 50),\n",
    "        (\"PLN\", \"UAH\", 20),\n",
    "        (\"UAH\", \"GBP\", 100),\n",
    "        (\"GBP\", \"USD\", 75),\n",
    "    ]:\n",
    "        currency_converter = currency_converters.get(source_currency)\n",
    "        if currency_converter is not None:\n",
    "            converted_amount = currency_converter.convert(target_currency, amount)\n",
    "            print(f\"{source_currency} to {target_currency}: {amount:.2f} -> {converted_amount:.2f}\")\n",
    "\n",
    "\n",
    "if __name__ == \"__main__\":\n",
    "    main()\n"
   ]
  }
 ],
 "metadata": {
  "kernelspec": {
   "display_name": "Python 3",
   "language": "python",
   "name": "python3"
  },
  "language_info": {
   "codemirror_mode": {
    "name": "ipython",
    "version": 3
   },
   "file_extension": ".py",
   "mimetype": "text/x-python",
   "name": "python",
   "nbconvert_exporter": "python",
   "pygments_lexer": "ipython3",
   "version": "3.11.5"
  }
 },
 "nbformat": 4,
 "nbformat_minor": 2
}
